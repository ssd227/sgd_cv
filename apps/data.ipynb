{
 "cells": [
  {
   "attachments": {},
   "cell_type": "markdown",
   "metadata": {},
   "source": [
    "# CV 数据集"
   ]
  },
  {
   "cell_type": "code",
   "execution_count": 1,
   "metadata": {},
   "outputs": [
    {
     "name": "stdout",
     "output_type": "stream",
     "text": [
      "/playground/sgd_deep_learning/sgd_cv\n"
     ]
    }
   ],
   "source": [
    "# 环境配置\n",
    "%cd ../\n",
    "import sys\n",
    "sys.path.append('./python')"
   ]
  },
  {
   "cell_type": "code",
   "execution_count": 2,
   "metadata": {},
   "outputs": [
    {
     "name": "stderr",
     "output_type": "stream",
     "text": [
      "/opt/conda/lib/python3.10/site-packages/tqdm/auto.py:22: TqdmWarning: IProgress not found. Please update jupyter and ipywidgets. See https://ipywidgets.readthedocs.io/en/stable/user_install.html\n",
      "  from .autonotebook import tqdm as notebook_tqdm\n"
     ]
    },
    {
     "name": "stdout",
     "output_type": "stream",
     "text": [
      "CPU 核心数: 12\n"
     ]
    }
   ],
   "source": [
    "import torchvision\n",
    "import torch\n",
    "import os\n",
    "\n",
    "cpu_count = os.cpu_count()\n",
    "print(f\"CPU 核心数: {cpu_count}\")"
   ]
  },
  {
   "attachments": {},
   "cell_type": "markdown",
   "metadata": {},
   "source": [
    "## Image classification"
   ]
  },
  {
   "cell_type": "code",
   "execution_count": 3,
   "metadata": {},
   "outputs": [
    {
     "name": "stdout",
     "output_type": "stream",
     "text": [
      "60000\n",
      "10000\n"
     ]
    }
   ],
   "source": [
    "# MNIST\n",
    "mnist_data_train = torchvision.datasets.MNIST('./data/MNIST/',train=True, download=True)\n",
    "print(len(mnist_data_train))\n",
    "\n",
    "mnist_data_test = torchvision.datasets.MNIST('./data/MNIST/',train=False, download=True)\n",
    "print(len(mnist_data_test))\n",
    "\n",
    "data_loader = torch.utils.data.DataLoader(mnist_data_train,\n",
    "                                          batch_size=4,\n",
    "                                          shuffle=True,\n",
    "                                          num_workers=cpu_count)"
   ]
  },
  {
   "cell_type": "code",
   "execution_count": 5,
   "metadata": {},
   "outputs": [
    {
     "name": "stdout",
     "output_type": "stream",
     "text": [
      "Files already downloaded and verified\n",
      "50000\n",
      "Files already downloaded and verified\n",
      "10000\n"
     ]
    }
   ],
   "source": [
    "# CIFAR10\n",
    "cifar10_data_train = torchvision.datasets.CIFAR10('./data/CIFAR10/', train=True, download=True)\n",
    "print(len(cifar10_data_train))\n",
    "\n",
    "cifar10_data_test = torchvision.datasets.CIFAR10('./data/CIFAR10/', train=False, download=True)\n",
    "print(len(mnist_data_test))\n",
    "\n",
    "data_loader = torch.utils.data.DataLoader(cifar10_data_train,\n",
    "                                          batch_size=4,\n",
    "                                          shuffle=True,\n",
    "                                          num_workers=cpu_count)\n"
   ]
  },
  {
   "attachments": {},
   "cell_type": "markdown",
   "metadata": {},
   "source": [
    "## Object Detction"
   ]
  }
 ],
 "metadata": {
  "kernelspec": {
   "display_name": "base",
   "language": "python",
   "name": "python3"
  },
  "language_info": {
   "codemirror_mode": {
    "name": "ipython",
    "version": 3
   },
   "file_extension": ".py",
   "mimetype": "text/x-python",
   "name": "python",
   "nbconvert_exporter": "python",
   "pygments_lexer": "ipython3",
   "version": "3.10.9"
  },
  "orig_nbformat": 4
 },
 "nbformat": 4,
 "nbformat_minor": 2
}
