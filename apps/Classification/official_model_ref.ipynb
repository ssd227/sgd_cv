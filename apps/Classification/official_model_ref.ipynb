{
 "cells": [
  {
   "cell_type": "code",
   "execution_count": null,
   "metadata": {},
   "outputs": [],
   "source": [
    "import torchvision.models as models\n",
    "\n",
    "# alexnet = models.alexnet(pretrained=False,)\n",
    "# vgg16 = models.vgg16(pretrained=False,)\n",
    "# vgg19 = models.vgg19(pretrained=False,)\n",
    "# googlenet = models.googlenet(pretrained=False,) # inception_v1\n",
    "\n",
    "# resnet18 = models.resnet18()\n",
    "# resnet34 = models.resnet34()\n",
    "# resnet50 = models.resnet50()\n",
    "# resnet101 = models.resnet101()\n",
    "# resnet152 = models.resnet152()\n",
    "# resnext50_32x4d = models.resnext50_32x4d() # 出奇的慢\n",
    "mobilenet = models.mobilenet_v2()\n",
    "\n",
    "# inception = models.inception_v3()\n",
    "# wide_resnet50_2 = models.wide_resnet50_2()\n",
    "# squeezenet = models.squeezenet1_0()\n",
    "# densenet = models.densenet161()\n",
    "# shufflenet = models.shufflenet_v2_x1_0()\n",
    "# mnasnet = models.mnasnet1_0()"
   ]
  },
  {
   "cell_type": "code",
   "execution_count": null,
   "metadata": {},
   "outputs": [],
   "source": [
    "print(mobilenet)"
   ]
  },
  {
   "cell_type": "code",
   "execution_count": null,
   "metadata": {},
   "outputs": [],
   "source": [
    "from torchvision import transforms\n",
    "transform = transforms.Compose([\n",
    " transforms.Resize(256),\n",
    " transforms.CenterCrop(224),\n",
    " transforms.ToTensor(),\n",
    " transforms.Normalize(\n",
    " mean=[0.485, 0.456, 0.406],\n",
    " std=[0.229, 0.224, 0.225]\n",
    " )])"
   ]
  },
  {
   "cell_type": "code",
   "execution_count": null,
   "metadata": {},
   "outputs": [],
   "source": [
    "import torch\n",
    "x = torch.rand(3,4)\n",
    "print(x)\n",
    "\n",
    "seq = torch.nn.Sequential()\n",
    "\n",
    "y = seq(x)\n",
    "print(y)\n",
    "y==x"
   ]
  }
 ],
 "metadata": {
  "kernelspec": {
   "display_name": "Python 3",
   "language": "python",
   "name": "python3"
  },
  "language_info": {
   "codemirror_mode": {
    "name": "ipython",
    "version": 3
   },
   "file_extension": ".py",
   "mimetype": "text/x-python",
   "name": "python",
   "nbconvert_exporter": "python",
   "pygments_lexer": "ipython3",
   "version": "3.12.3"
  }
 },
 "nbformat": 4,
 "nbformat_minor": 2
}
